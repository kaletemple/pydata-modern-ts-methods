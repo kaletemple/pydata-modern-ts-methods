{
 "cells": [
  {
   "cell_type": "code",
   "execution_count": 2,
   "metadata": {},
   "outputs": [],
   "source": [
    "#-- standard libraries\n",
    "import os\n",
    "import sys\n",
    "import time\n",
    "import warnings\n",
    "warnings.filterwarnings('ignore', category=FutureWarning)\n",
    "import json"
   ]
  },
  {
   "cell_type": "code",
   "execution_count": 3,
   "metadata": {},
   "outputs": [
    {
     "name": "stdout",
     "output_type": "stream",
     "text": [
      "Collecting cookiecutter\n",
      "\u001b[?25l  Downloading https://files.pythonhosted.org/packages/16/99/1ca3a75978270288354f419e9166666801cf7e7d8df984de44a7d5d8b8d0/cookiecutter-1.6.0-py2.py3-none-any.whl (50kB)\n",
      "\u001b[K    100% |████████████████████████████████| 51kB 1.1MB/s ta 0:00:01\n",
      "\u001b[?25hRequirement already satisfied: click>=5.0 in /anaconda3/lib/python3.6/site-packages (from cookiecutter) (6.7)\n",
      "Collecting jinja2-time>=0.1.0 (from cookiecutter)\n",
      "  Downloading https://files.pythonhosted.org/packages/6a/a1/d44fa38306ffa34a7e1af09632b158e13ec89670ce491f8a15af3ebcb4e4/jinja2_time-0.2.0-py2.py3-none-any.whl\n",
      "Collecting binaryornot>=0.2.0 (from cookiecutter)\n",
      "  Downloading https://files.pythonhosted.org/packages/24/7e/f7b6f453e6481d1e233540262ccbfcf89adcd43606f44a028d7f5fae5eb2/binaryornot-0.4.4-py2.py3-none-any.whl\n",
      "Requirement already satisfied: jinja2>=2.7 in /anaconda3/lib/python3.6/site-packages (from cookiecutter) (2.10)\n",
      "Collecting poyo>=0.1.0 (from cookiecutter)\n",
      "  Downloading https://files.pythonhosted.org/packages/e0/16/e00e3001007a5e416ca6a51def6f9e4be6a774bf1c8486d20466f834d113/poyo-0.4.2-py2.py3-none-any.whl\n",
      "Collecting future>=0.15.2 (from cookiecutter)\n",
      "\u001b[?25l  Downloading https://files.pythonhosted.org/packages/90/52/e20466b85000a181e1e144fd8305caf2cf475e2f9674e797b222f8105f5f/future-0.17.1.tar.gz (829kB)\n",
      "\u001b[K    100% |████████████████████████████████| 829kB 1.4MB/s ta 0:00:01\n",
      "\u001b[?25hRequirement already satisfied: requests>=2.18.0 in /anaconda3/lib/python3.6/site-packages (from cookiecutter) (2.18.4)\n",
      "Collecting whichcraft>=0.4.0 (from cookiecutter)\n",
      "  Downloading https://files.pythonhosted.org/packages/ab/c6/eb4d1dfbb68168bb01c4394420e5e71d5851e64b910838aa0f14ebd5c7a0/whichcraft-0.5.2-py2.py3-none-any.whl\n",
      "Collecting arrow (from jinja2-time>=0.1.0->cookiecutter)\n",
      "\u001b[?25l  Downloading https://files.pythonhosted.org/packages/5d/c7/468bb95a10fb8ddb5f3f80e1aef06b78f64d6e5df958c39672f80581381f/arrow-0.13.0.tar.gz (92kB)\n",
      "\u001b[K    100% |████████████████████████████████| 102kB 1.4MB/s a 0:00:01\n",
      "\u001b[?25hRequirement already satisfied: chardet>=3.0.2 in /anaconda3/lib/python3.6/site-packages (from binaryornot>=0.2.0->cookiecutter) (3.0.4)\n",
      "Requirement already satisfied: MarkupSafe>=0.23 in /anaconda3/lib/python3.6/site-packages (from jinja2>=2.7->cookiecutter) (1.0)\n",
      "Requirement already satisfied: idna<2.7,>=2.5 in /anaconda3/lib/python3.6/site-packages (from requests>=2.18.0->cookiecutter) (2.6)\n",
      "Requirement already satisfied: urllib3<1.23,>=1.21.1 in /anaconda3/lib/python3.6/site-packages (from requests>=2.18.0->cookiecutter) (1.22)\n",
      "Requirement already satisfied: certifi>=2017.4.17 in /anaconda3/lib/python3.6/site-packages (from requests>=2.18.0->cookiecutter) (2018.4.16)\n",
      "Requirement already satisfied: python-dateutil in /anaconda3/lib/python3.6/site-packages (from arrow->jinja2-time>=0.1.0->cookiecutter) (2.7.3)\n",
      "Requirement already satisfied: six>=1.5 in /anaconda3/lib/python3.6/site-packages (from python-dateutil->arrow->jinja2-time>=0.1.0->cookiecutter) (1.11.0)\n",
      "Building wheels for collected packages: future, arrow\n",
      "  Running setup.py bdist_wheel for future ... \u001b[?25ldone\n",
      "\u001b[?25h  Stored in directory: /Users/kaletemple/Library/Caches/pip/wheels/0c/61/d2/d6b7317325828fbb39ee6ad559dbe4664d0896da4721bf379e\n",
      "  Running setup.py bdist_wheel for arrow ... \u001b[?25ldone\n",
      "\u001b[?25h  Stored in directory: /Users/kaletemple/Library/Caches/pip/wheels/1e/d5/30/cace6155de216c74f70b1b866ce6ec2c9bbc60be88073a1fcd\n",
      "Successfully built future arrow\n",
      "Installing collected packages: arrow, jinja2-time, binaryornot, poyo, future, whichcraft, cookiecutter\n",
      "Successfully installed arrow-0.13.0 binaryornot-0.4.4 cookiecutter-1.6.0 future-0.17.1 jinja2-time-0.2.0 poyo-0.4.2 whichcraft-0.5.2\n",
      "\u001b[33mYou are using pip version 18.1, however version 19.0.1 is available.\n",
      "You should consider upgrading via the 'pip install --upgrade pip' command.\u001b[0m\n"
     ]
    }
   ],
   "source": [
    "!pip install cookiecutter"
   ]
  },
  {
   "cell_type": "code",
   "execution_count": null,
   "metadata": {},
   "outputs": [],
   "source": []
  }
 ],
 "metadata": {
  "kernelspec": {
   "display_name": "Python 3",
   "language": "python",
   "name": "python3"
  },
  "language_info": {
   "codemirror_mode": {
    "name": "ipython",
    "version": 3
   },
   "file_extension": ".py",
   "mimetype": "text/x-python",
   "name": "python",
   "nbconvert_exporter": "python",
   "pygments_lexer": "ipython3",
   "version": "3.6.5"
  }
 },
 "nbformat": 4,
 "nbformat_minor": 2
}
